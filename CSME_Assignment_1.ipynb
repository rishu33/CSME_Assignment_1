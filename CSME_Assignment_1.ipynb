{
 "cells": [
  {
   "cell_type": "markdown",
   "id": "336ddf43-7a51-4942-88b1-fbef05d440a8",
   "metadata": {},
   "source": [
    "# CSME2 Bonus Point Assignment 1\n",
    "\n",
    "<div style=\"text-align: right;font-size: 0.8em\">Document Version 1.0.0, released 01/12/2021</div>\n",
    "For detailed task instructions, please refer to the assignment PDF.\n",
    "\n",
    "DO NOT CLEAR THE OUTPUT of the notebook you are submitting!"
   ]
  },
  {
   "cell_type": "code",
   "execution_count": 4,
   "id": "55262e5f-2f40-4108-9138-7a526f6fa4c0",
   "metadata": {},
   "outputs": [],
   "source": [
    "# Add any additional import you need in this cell\n",
    "import numpy as np\n",
    "from sklearn.cluster import kmeans_plusplus, KMeans\n",
    "import matplotlib.pyplot as plt\n",
    "import scipy.io\n",
    "from itertools import combinations_with_replacement,chain\n",
    "Filetrain_data = scipy.io.loadmat('sarcos_inv.mat')\n",
    "Filetest_data = scipy.io.loadmat('sarcos_inv_test.mat')\n",
    "np.random.seed(1234)\n",
    "\n",
    "train_data = Filetrain_data['sarcos_inv']\n",
    "test_data = Filetest_data['sarcos_inv_test']\n",
    "np.random.shuffle(train_data)\n",
    "datasize, jointdynamics = train_data.shape\n",
    "trainsetsize = int(0.8*datasize)"
   ]
  },
  {
   "cell_type": "markdown",
   "id": "e16807c6-9b2d-479f-a48c-61fd2cc82796",
   "metadata": {},
   "source": [
    "### Setup\n",
    "__Task A.1__ Load the data into the following numpy arrays. For the output, only use the first torque variable.\n",
    "Randomly split the data from the file ```sarcos_inv.mat``` into a training set (80%) and a validation set (20%)."
   ]
  },
  {
   "cell_type": "code",
   "execution_count": 5,
   "id": "c91bf5d1-90f6-4f61-a681-1242f3f81364",
   "metadata": {},
   "outputs": [],
   "source": [
    "# Input and output training data\n",
    "xs_train = train_data[:trainsetsize,:21]\n",
    "ys_train = train_data[:trainsetsize,21:22]\n",
    "\n",
    "\n",
    "# Input and output validation data\n",
    "xs_valid = train_data[trainsetsize:,:21]\n",
    "ys_valid = train_data[trainsetsize:,21:22]\n",
    "\n",
    "# Input and output test data\n",
    "xs_test = test_data[:,:21]\n",
    "ys_test = test_data[:,21:22]"
   ]
  },
  {
   "cell_type": "code",
   "execution_count": 6,
   "id": "432e41e8-7fa4-4d0a-a3b2-0c6881c7dbf8",
   "metadata": {},
   "outputs": [
    {
     "name": "stdout",
     "output_type": "stream",
     "text": [
      "(35587, 21)\n",
      "(35587, 1)\n",
      "(8897, 21)\n",
      "(8897, 1)\n",
      "(4449, 21)\n",
      "(4449, 1)\n"
     ]
    }
   ],
   "source": [
    "# Check for yourself \n",
    "# The following should lead to output \n",
    "# (35587, 21)\n",
    "# (35587, 1)\n",
    "# (8897, 21)\n",
    "# (8897, 1)\n",
    "# (4449, 21)\n",
    "# (4449, 1)\n",
    "\n",
    "print(xs_train.shape)\n",
    "print(ys_train.shape)\n",
    "print(xs_valid.shape)\n",
    "print(ys_valid.shape)\n",
    "print(xs_test.shape)\n",
    "print(ys_test.shape)"
   ]
  },
  {
   "cell_type": "markdown",
   "id": "1cd20cae-ee79-4a62-84ca-a1e73b10cd33",
   "metadata": {},
   "source": [
    "__Task A.2__ Standardize the data such that\n",
    "1. Training inputs have mean 0\n",
    "2. Each training input variable has variance 1\n",
    "3. The training outputs have mean 0\n",
    "4. Apply the same transformation to the validation and test data\n",
    "\n",
    "Implement this manually, i.e., do not use a ready scaler like the one provided by scikit-learn."
   ]
  },
  {
   "cell_type": "code",
   "execution_count": 7,
   "id": "5c152c5c-c06b-4d99-8950-750bbcffabda",
   "metadata": {},
   "outputs": [
    {
     "name": "stdout",
     "output_type": "stream",
     "text": [
      "(8897, 1)\n"
     ]
    }
   ],
   "source": [
    "# Store the standardized data in the following variables \n",
    "xs_train_mean = xs_train.sum(axis=0)/(xs_train.shape[0])\n",
    "xs_train_var = np.sqrt( (np.power( (xs_train[:] - xs_train_mean),2).sum(axis=0) )/xs_train.shape[0])\n",
    "ys_train_mean = ys_train.sum(axis=0)/(ys_train.shape[0])\n",
    "ys_train_var = np.sqrt( (np.power( (ys_train[:] - ys_train_mean),2).sum(axis=0) )/ys_train.shape[0])\n",
    "\n",
    "xs_train_std = (xs_train-xs_train_mean)/xs_train_var\n",
    "ys_train_std = (ys_train-ys_train_mean)/ys_train_var\n",
    "\n",
    "\n",
    "\n",
    "xs_valid_mean = xs_valid.sum(axis=0)/(xs_valid.shape[0])\n",
    "xs_valid_var = np.sqrt( (np.power( (xs_valid[:] - xs_valid_mean),2).sum(axis=0) )/xs_valid.shape[0])\n",
    "ys_valid_mean = ys_valid.sum(axis=0)/(ys_valid.shape[0])\n",
    "ys_valid_var = np.sqrt( (np.power( (ys_valid[:] - ys_valid_mean),2).sum(axis=0) )/ys_valid.shape[0])\n",
    "\n",
    "xs_valid_std = (xs_valid-xs_valid_mean)/xs_valid_var\n",
    "ys_valid_std = (ys_valid-ys_valid_mean)/ys_valid_var\n",
    "print(ys_valid_std.shape)\n",
    "\n",
    "\n",
    "xs_test_mean = xs_test.sum(axis=0)/(xs_test.shape[0])\n",
    "xs_test_var = np.sqrt( (np.power( (xs_test[:] - xs_test_mean),2).sum(axis=0) )/xs_test.shape[0])\n",
    "ys_test_mean = ys_test.sum(axis=0)/(ys_test.shape[0])\n",
    "ys_test_var = np.sqrt( (np.power( (ys_test[:] - ys_test_mean),2).sum(axis=0) )/ys_test.shape[0])\n",
    "\n",
    "xs_test_std = (xs_test-xs_test_mean)/xs_test_var\n",
    "ys_test_std = (ys_test-ys_test_mean)/ys_test_var"
   ]
  },
  {
   "cell_type": "code",
   "execution_count": 8,
   "id": "28875927-bb84-4b91-a451-3aafb42bdcc9",
   "metadata": {},
   "outputs": [
    {
     "name": "stdout",
     "output_type": "stream",
     "text": [
      "1.7988736604700613e-17\n",
      "5.450815378157961e-17\n",
      "2.1639119481018053e-17\n",
      "-9.583581914264586e-17\n",
      "-2.7264507890483246e-17\n",
      "-2.5553346307398523e-17\n",
      "[1. 1. 1. 1. 1. 1. 1. 1. 1. 1. 1. 1. 1. 1. 1. 1. 1. 1. 1. 1. 1.]\n",
      "[1. 1. 1. 1. 1. 1. 1. 1. 1. 1. 1. 1. 1. 1. 1. 1. 1. 1. 1. 1. 1.]\n",
      "[1. 1. 1. 1. 1. 1. 1. 1. 1. 1. 1. 1. 1. 1. 1. 1. 1. 1. 1. 1. 1.]\n"
     ]
    }
   ],
   "source": [
    "# Check for yourself\n",
    "# The following should lead to (roughly) six zeros and three arrays with (approximately) ones\n",
    "print(np.mean(xs_train_std))\n",
    "print(np.mean(ys_train_std))\n",
    "print(np.mean(xs_valid_std))\n",
    "print(np.mean(ys_valid_std))\n",
    "print(np.mean(xs_test_std))\n",
    "print(np.mean(ys_test_std))\n",
    "\n",
    "print(np.var(xs_train_std, axis=0))\n",
    "print(np.var(xs_valid_std, axis=0))\n",
    "print(np.var(xs_test_std, axis=0))"
   ]
  },
  {
   "cell_type": "markdown",
   "id": "92e51315-ee86-43b6-ba6d-f869d19e1e90",
   "metadata": {},
   "source": [
    "__Task A.3__"
   ]
  },
  {
   "cell_type": "code",
   "execution_count": 9,
   "id": "42b3ac19-e652-4a78-8cb7-f030c466144a",
   "metadata": {},
   "outputs": [],
   "source": [
    "# Task A.3.a\n",
    "# Implement a function estimating the variance\n",
    "def my_variance(xs):\n",
    "    \"\"\"Calculate the empirical variance of a given vector of scalars\n",
    "    \n",
    "    Arguments\n",
    "    xs      1d numpy array\n",
    "    \n",
    "    Returns\n",
    "    The empirical variance of the provided vector\n",
    "    \"\"\"\n",
    "    # Your implementation\n",
    "    xs_mean = xs.sum(axis=0)/(xs.shape[0])\n",
    "    xs_var = np.sqrt( (np.power( (xs[:] - xs_mean),2).sum(axis=0) )/xs.shape[0])\n",
    "    return xs_var\n",
    "    pass"
   ]
  },
  {
   "cell_type": "code",
   "execution_count": 10,
   "id": "c3348e0c-6799-464a-9939-159dfd0e5a31",
   "metadata": {},
   "outputs": [
    {
     "name": "stdout",
     "output_type": "stream",
     "text": [
      "[1.]\n"
     ]
    }
   ],
   "source": [
    "# Task A.3.b\n",
    "# Calculate the variance of ys_train_std using your function my_variance\n",
    "var_ys_train = my_variance(ys_train_std)\n",
    "print(var_ys_train)"
   ]
  },
  {
   "cell_type": "code",
   "execution_count": 11,
   "id": "ad11e721-414a-4944-bd78-9e7b9c8163c3",
   "metadata": {},
   "outputs": [],
   "source": [
    "# Task A.3.c\n",
    "# Implement a function calculating the SMSE between two 1d numpy arrays given a normalizing factor\n",
    "def my_smse(z1, z2, s):\n",
    "    \"\"\"Calculate the Standardized Mean Squared Error (SMSE)\n",
    "    \n",
    "    Arguments\n",
    "    z1      1d numpy array (usually the predictions)\n",
    "    z2      1d numpy array (usually the test data)\n",
    "    s       Normalization factor (usually the variance of the test data)\n",
    "    \n",
    "    Returns\n",
    "    The SMSE of the provided data\n",
    "    \"\"\"\n",
    "    # Your implementation\n",
    "    SMSE =  (np.power( (z1 - z2),2).sum(axis=0)) / (z1.shape[0]*s)\n",
    "    return SMSE\n",
    "    pass"
   ]
  },
  {
   "cell_type": "markdown",
   "id": "ef4f8d54-4e5d-4706-81dc-50e5902d83db",
   "metadata": {},
   "source": [
    "## Linear regression\n",
    "### Simple linear regression\n",
    "__Task A.4__"
   ]
  },
  {
   "cell_type": "code",
   "execution_count": 12,
   "id": "2a9334e8-04c3-4b0b-aa79-ac3888b9ab59",
   "metadata": {},
   "outputs": [
    {
     "name": "stdout",
     "output_type": "stream",
     "text": [
      "[0.07045398]\n"
     ]
    }
   ],
   "source": [
    "# This variable should contain the weights corresponding to simple linear regression (LS criterion, no bias term)\n",
    "phi_valid = np.copy(xs_valid_std)\n",
    "w_lr = (np.linalg.inv(phi_valid.T @ phi_valid) @ phi_valid.T ) @ ys_valid_std\n",
    "\n",
    "\n",
    "# This variable should contain the predictions using w_lr on the test data\n",
    "ys_pred_valid = phi_valid @ w_lr\n",
    "\n",
    "# This should contain the resulting smse\n",
    "smse_lr = my_smse(ys_pred_valid, ys_valid_std, var_ys_train)\n",
    "print(smse_lr)"
   ]
  },
  {
   "cell_type": "markdown",
   "id": "126a7728-c157-484a-8c19-737487f7dade",
   "metadata": {},
   "source": [
    "### Linear regression with polynomial features\n",
    "__Task A.5__"
   ]
  },
  {
   "cell_type": "code",
   "execution_count": 13,
   "id": "410e12b5-a083-4cdf-8801-c122eb597bb8",
   "metadata": {},
   "outputs": [],
   "source": [
    "# Task A.5.a\n",
    "def my_poly_features(xs, degree):\n",
    "    \"\"\"Generates polynomial features from given data\n",
    "    \n",
    "    The polynomial features should include monomials (i.e., x_i, x_i**2 etc)\n",
    "    and interaction terms (x_1*x_2 etc), but no repetitions.\n",
    "    The order of the samples should not be changed through the transformation.\n",
    "    \n",
    "    Arguments\n",
    "    xs      2d numpy array of shape (N,D) containing N samples of dimension D\n",
    "    degree  Maximum degree of polynomials to be considered\n",
    "    \n",
    "    Returns\n",
    "    An (N,M) numpy array containing the transformed input\n",
    "    \"\"\"\n",
    "    # Your implementation\n",
    "    NN,DD = xs.shape\n",
    "    sol = np.ones((NN))\n",
    "    element_col = np.ones((NN,1))\n",
    "    dimm = xs.shape[1]\n",
    "    powe = degree\n",
    "    arr = np.copy(xs)\n",
    "    st = 0\n",
    "    N_data,D = np.shape(xs) \n",
    "    output = np.ones((N_data,1))\n",
    "    n_array = list(range(D))\n",
    "    indices = []\n",
    "    for i in range(1,degree+1):\n",
    "        comb = list(combinations_with_replacement(n_array, i))\n",
    "        indices.append(comb)\n",
    "    indices = list(chain(*indices))\n",
    "    for x_i in indices:\n",
    "        output_term = np.ones((N_data,1))\n",
    "        for term in x_i:\n",
    "            xs_current = xs[:,term].reshape(N_data,1)\n",
    "            output_term = xs_current*output_term\n",
    "        output = np.append(output,output_term,axis=1)  \n",
    "    return output\n",
    "    pass"
   ]
  },
  {
   "cell_type": "code",
   "execution_count": 14,
   "id": "88f1db66-1d17-425b-99dd-525e80112ca6",
   "metadata": {},
   "outputs": [
    {
     "name": "stdout",
     "output_type": "stream",
     "text": [
      "[0.03075771]\n",
      "[0.0103944]\n"
     ]
    }
   ],
   "source": [
    "# Tasks A.5.b\n",
    "# This variable should contain the weights corresponding to linear regression using polynomial features up to degree 2 and 3\n",
    "phi_poly2 = my_poly_features(xs_valid_std,2)\n",
    "w_poly2 = (np.linalg.inv(phi_poly2.T @ phi_poly2) @ phi_poly2.T ) @ ys_valid_std\n",
    "\n",
    "phi_poly3 = my_poly_features(xs_valid_std,3)\n",
    "w_poly3 = (np.linalg.inv(phi_poly3.T @ phi_poly3) @ phi_poly3.T ) @ ys_valid_std\n",
    "\n",
    "# This variable should contain the predictions using w_poly2 and w_poly3 on the validation data\n",
    "ys_pred_poly2_valid = phi_poly2 @ w_poly2\n",
    "ys_pred_poly3_valid = phi_poly3 @ w_poly3\n",
    "\n",
    "# This should contain the resulting smse\n",
    "smse_poly2 = my_smse(ys_pred_poly2_valid, ys_valid_std, var_ys_train)\n",
    "smse_poly3 = my_smse(ys_pred_poly3_valid, ys_valid_std, var_ys_train)\n",
    "print(smse_poly2)\n",
    "print(smse_poly3)"
   ]
  },
  {
   "cell_type": "markdown",
   "id": "951d9707-89e6-451b-ac2d-8423845ab019",
   "metadata": {},
   "source": [
    "## Clustering\n",
    "__Task B.1__ Implement the basic $K$-Means algorithm."
   ]
  },
  {
   "cell_type": "code",
   "execution_count": 15,
   "id": "91c523b8-f2ed-41df-9dbb-afd254102f8a",
   "metadata": {},
   "outputs": [],
   "source": [
    "def my_kmeans(xs, init_centers, n_iter):\n",
    "    \"\"\"Runs the K-Means algorithm from a given initialization\n",
    "    \n",
    "    Arguments\n",
    "    xs            2d numpy array of shape (N,D) containing N samples of dimension D\n",
    "    init_centers  2d numpy array of shape (K,D) containing the initial cluster centers\n",
    "    n_iter        Number of iterations of the K-Means algorithm\n",
    "    \n",
    "    Returns\n",
    "    An (K,D) numpy array containing the final cluster centers\n",
    "    \"\"\"\n",
    "    # Your implementation\n",
    "    N,D = xs.shape\n",
    "    K = init_centers.shape[0]\n",
    "    new_centers = np.zeros((K,D))\n",
    "    new_centers = np.copy(init_centers)\n",
    "    dist = np.zeros((K,N))\n",
    "    for iteration in range(n_iter):\n",
    "        for k in range(K):\n",
    "            for n in range(N):\n",
    "                dist[k,n] = np.linalg.norm(new_centers[k] - xs[n])\n",
    "        closestK = np.argmin(dist,0)\n",
    "        for k in range(K):\n",
    "            new_centers[k] = np.average(xs[closestK == k],0 )\n",
    "    \n",
    "    return new_centers\n",
    "    pass"
   ]
  },
  {
   "cell_type": "markdown",
   "id": "8fbbdd8d-0316-4eba-9172-e9411bead541",
   "metadata": {},
   "source": [
    "__Task B.2__ Generate test data set and plot it."
   ]
  },
  {
   "cell_type": "code",
   "execution_count": 18,
   "id": "9c0e6ca9-f070-4590-a130-d1b5aef0c736",
   "metadata": {},
   "outputs": [
    {
     "data": {
      "text/plain": [
       "<matplotlib.collections.PathCollection at 0x2489561f940>"
      ]
     },
     "execution_count": 18,
     "metadata": {},
     "output_type": "execute_result"
    },
    {
     "data": {
      "image/png": "[encoded data removed]",
      "text/plain": [
       "<Figure size 432x288 with 1 Axes>"
      ]
     },
     "metadata": {
      "needs_background": "light"
     },
     "output_type": "display_data"
    }
   ],
   "source": [
    "# Test data of shape (100,2)\n",
    "point,Dim = 100,2\n",
    "\n",
    "prob = np.array([0.3,0.2,0.4,0.1])\n",
    "means = np.array([[-2,2],[-2,-2],[2,-2],[2,2]])\n",
    "xs_cluster_test = np.zeros((point,Dim))\n",
    "cov1 = 0.2*np.eye((Dim))\n",
    "cov2 = 0.2*np.eye((Dim))\n",
    "cov3 = 0.5*np.eye((Dim))\n",
    "cov4 = 0.5*np.eye((Dim))\n",
    "\n",
    "covariance = np.array([cov1,cov2,cov3,cov4])\n",
    "index = np.random.choice(means[:,0].size,point,p = prob)\n",
    "for ele,i in enumerate(index):\n",
    "    xs_cluster_test[ele,:] = np.random.multivariate_normal (means[i], covariance[i],(1))\n",
    "    \n",
    "plt.scatter(xs_cluster_test[:,0],xs_cluster_test[:,1])"
   ]
  },
  {
   "cell_type": "markdown",
   "id": "c8583191-6666-4fb1-aa81-4a2994e502c2",
   "metadata": {},
   "source": [
    "# __Task B.3__ Run your $K$-Means algorithm on the test data for $K=2,3,4,5$ clusters and plot the final cluster centers."
   ]
  },
  {
   "cell_type": "code",
   "execution_count": 19,
   "id": "f20b50a8-ab79-4808-af16-3f29f4131837",
   "metadata": {},
   "outputs": [
    {
     "data": {
      "image/png": "[encoded data removed]",
      "text/plain": [
       "<Figure size 720x720 with 4 Axes>"
      ]
     },
     "metadata": {
      "needs_background": "light"
     },
     "output_type": "display_data"
    }
   ],
   "source": [
    "# Use kmeans_plusplus(xs_cluster_test, K, random_state=0) for initialization\n",
    "K = 2\n",
    "fig, sct_graph = plt.subplots(2,2,figsize=(10,10))\n",
    "fig.suptitle('Clustering with K = 2,3,4,5')\n",
    "for k in range(2,6):\n",
    "    init_centers,init_cent_index = kmeans_plusplus(xs_cluster_test, k, random_state=0)\n",
    "    new_centers = my_kmeans(xs_cluster_test,init_centers,5)\n",
    "    sct_graph[int((k/2)-1),k%2].scatter(xs_cluster_test[:,0],xs_cluster_test[:,1])\n",
    "    sct_graph[int((k/2)-1),k%2].scatter(new_centers[:,0], new_centers[:,1], c='red')\n",
    "    sct_graph[int((k/2)-1),k%2].set_title(f'For K={k}')\n"
   ]
  },
  {
   "cell_type": "markdown",
   "id": "664368f6-688f-45ed-8ca2-4c26fe915a67",
   "metadata": {},
   "source": [
    "## Radial Basis Function Network\n",
    "__Task C.1__ Find $K=100$ cluster centers using $K$-Means."
   ]
  },
  {
   "cell_type": "code",
   "execution_count": 20,
   "id": "0fdbd9b8-f444-4546-a703-491d430ca44e",
   "metadata": {},
   "outputs": [],
   "source": [
    "# This 100x21 numpy array should contain the cluster centers\n",
    "def centersFunc(xs,K):\n",
    "    kmeansReturn = KMeans(n_clusters = K,init=\"k-means++\",random_state=0).fit(xs)\n",
    "    xs_centers = kmeansReturn.cluster_centers_\n",
    "    return xs_centers\n",
    "K=100\n",
    "xs_centers = centersFunc(xs_train_std,K)"
   ]
  },
  {
   "cell_type": "markdown",
   "id": "283eb1a9-5e6d-4df6-a653-c4912a2c4046",
   "metadata": {},
   "source": [
    "__Task C.2__ Implement the Gaussian basis functions and transform the data accordingly"
   ]
  },
  {
   "cell_type": "code",
   "execution_count": 21,
   "id": "4829d70b-7276-449d-a801-c151a2d19279",
   "metadata": {},
   "outputs": [],
   "source": [
    "def my_gaussFunc(xs):\n",
    "    sigma = 25.0\n",
    "    const = (2*np.pi*(sigma**2))**(-0.5)\n",
    "    K = xs_centers.shape[0]\n",
    "    N,D = xs.shape \n",
    "    r = np.zeros((N,K))\n",
    "    for k in range(K):\n",
    "        for n in range(N):\n",
    "            r[n,k] = np.linalg.norm(xs[n,:] - xs_centers[k,:])\n",
    "    xs_gauss = const* np.exp(- ( (r**2) / (2*sigma**2) ))\n",
    "    identi = np.ones((xs.shape[0],1))\n",
    "    xs_gauss = np.column_stack((identi,xs_gauss))\n",
    "    return xs_gauss\n"
   ]
  },
  {
   "cell_type": "markdown",
   "id": "ee397e68-58af-4936-b70a-ea9f21510483",
   "metadata": {},
   "source": [
    "__Task C.3__ Run simple linear regression on the transformed data and evaluate it on the test set"
   ]
  },
  {
   "cell_type": "code",
   "execution_count": 22,
   "id": "3520a758-68a4-4cc3-8913-0bae0c6ae1aa",
   "metadata": {},
   "outputs": [
    {
     "name": "stdout",
     "output_type": "stream",
     "text": [
      "[0.04219284]\n"
     ]
    }
   ],
   "source": [
    "xs_train_gauss = my_gaussFunc(xs_train_std)\n",
    "xs_valid_gauss = my_gaussFunc(xs_valid_std)\n",
    "\n",
    "weights = np.linalg.pinv(xs_train_gauss) @ ys_train_std\n",
    "\n",
    "ys_pred_gauss_valid = xs_valid_gauss @ weights\n",
    "var_ys_valid = my_variance(ys_valid_std)\n",
    "\n",
    "# This should contain the corresponding SMSE\n",
    "smse_gauss = my_smse(ys_pred_gauss_valid, ys_valid_std, var_ys_train)\n",
    "print(smse_gauss)"
   ]
  },
  {
   "cell_type": "markdown",
   "id": "0311c46c-af9b-45a6-8926-0648b4e3a218",
   "metadata": {},
   "source": [
    "__Open task__ Can you improve the performance of the RBF network?"
   ]
  },
  {
   "cell_type": "markdown",
   "id": "586f77ae-b5f9-4e02-9564-42573e5045a2",
   "metadata": {},
   "source": [
    "__Task C.4__ Evaluate your final model (either the one from Task C.3 or your improved model from the open task) on the test data"
   ]
  },
  {
   "cell_type": "code",
   "execution_count": 23,
   "id": "a35eda50-ec10-453d-952a-82c73dfd2b0e",
   "metadata": {},
   "outputs": [
    {
     "name": "stdout",
     "output_type": "stream",
     "text": [
      "[0.04252021]\n"
     ]
    }
   ],
   "source": [
    "# This should contain the predictions on the test data set\n",
    "xs_test_gauss = my_gaussFunc(xs_test_std)\n",
    "ys_pred_test = xs_test_gauss @ weights\n",
    "var_ys_test = my_variance(ys_test_std)\n",
    "\n",
    "# This should contain the resulting SMSE on the test data\n",
    "smse_test = my_smse(ys_pred_test, ys_test_std, var_ys_test)\n",
    "print(smse_test)"
   ]
  }
 ],
 "metadata": {
  "kernelspec": {
   "display_name": "Python 3 (ipykernel)",
   "language": "python",
   "name": "python3"
  },
  "language_info": {
   "codemirror_mode": {
    "name": "ipython",
    "version": 3
   },
   "file_extension": ".py",
   "mimetype": "text/x-python",
   "name": "python",
   "nbconvert_exporter": "python",
   "pygments_lexer": "ipython3",
   "version": "3.9.7"
  }
 },
 "nbformat": 4,
 "nbformat_minor": 5
}
